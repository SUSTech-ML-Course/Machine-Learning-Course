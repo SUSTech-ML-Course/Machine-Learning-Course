{
 "cells": [
  {
   "attachments": {},
   "cell_type": "markdown",
   "metadata": {},
   "source": [
    "# NumPy Exercise"
   ]
  },
  {
   "cell_type": "code",
   "execution_count": null,
   "metadata": {},
   "outputs": [],
   "source": [
    "\n",
    "import numpy as np\n",
    "    "
   ]
  },
  {
   "cell_type": "markdown",
   "metadata": {},
   "source": [
    "### 1. Array creation and basic operations"
   ]
  },
  {
   "cell_type": "code",
   "execution_count": null,
   "metadata": {},
   "outputs": [
    {
     "name": "stdout",
     "output_type": "stream",
     "text": [
      "[[90  2 69 42 92 50 80 99 65 10]\n",
      " [22 32 67  9 77 61 60  2 23 25]\n",
      " [ 9 58  1  8 83 84 25 18 66 60]\n",
      " [55 78 29 21 90 91 85 95 12 33]\n",
      " [23 74 98 87 55 35 26 63 31 28]\n",
      " [70 88 51 30 36 68 27 93 19 85]\n",
      " [77  1 75  3 85 63 72 16 88  4]\n",
      " [ 9 57 60 26  6 58 43 61 16 17]\n",
      " [55 60 35 38  2 14 99 36  0 18]\n",
      " [82 55 86 90 97  2 96 16 96 55]]\n"
     ]
    }
   ],
   "source": [
    "\n",
    "# (1) Create a 10x10 random array with values between 0 and 100 (int)\n",
    "arr = ...\n",
    "print(arr)\n",
    "    "
   ]
  },
  {
   "cell_type": "code",
   "execution_count": null,
   "metadata": {},
   "outputs": [
    {
     "name": "stdout",
     "output_type": "stream",
     "text": [
      "Min: 0 Max: 99 Mean: 49.34\n"
     ]
    }
   ],
   "source": [
    "\n",
    "# (2) Calculate the minimum, maximum, and mean of the array\n",
    "min_value = ...    # Minimum value\n",
    "max_value = ...    # Maximum value\n",
    "mean_value = ...  # Mean value\n",
    "\n",
    "print(\"Min:\", min_value, \"Max:\", max_value, \"Mean:\", mean_value)\n",
    "    "
   ]
  },
  {
   "cell_type": "code",
   "execution_count": null,
   "metadata": {},
   "outputs": [
    {
     "name": "stdout",
     "output_type": "stream",
     "text": [
      "Row sum: [599 378 412 589 520 567 484 353 357 675]\n",
      "Column sum: [492 505 571 354 623 526 613 499 416 335]\n"
     ]
    }
   ],
   "source": [
    "\n",
    "# (3) Compute the sum of the array along rows or columns\n",
    "row_sum = ...  # Sum along rows\n",
    "col_sum = ...  # Sum along columns\n",
    "\n",
    "print(\"Row sum:\", row_sum)\n",
    "print(\"Column sum:\", col_sum)\n",
    "    "
   ]
  },
  {
   "attachments": {},
   "cell_type": "markdown",
   "metadata": {},
   "source": [
    "### 2. Array reshaping and merging"
   ]
  },
  {
   "cell_type": "code",
   "execution_count": null,
   "metadata": {},
   "outputs": [
    {
     "name": "stdout",
     "output_type": "stream",
     "text": [
      "Reshaped array: [[90  2 69 42 92 50 80 99 65 10 22 32 67  9 77 61 60  2 23 25]\n",
      " [ 9 58  1  8 83 84 25 18 66 60 55 78 29 21 90 91 85 95 12 33]\n",
      " [23 74 98 87 55 35 26 63 31 28 70 88 51 30 36 68 27 93 19 85]\n",
      " [77  1 75  3 85 63 72 16 88  4  9 57 60 26  6 58 43 61 16 17]\n",
      " [55 60 35 38  2 14 99 36  0 18 82 55 86 90 97  2 96 16 96 55]]\n"
     ]
    }
   ],
   "source": [
    "\n",
    "# (1) Reshape the array into a 5x20 array\n",
    "reshaped_array = ...\n",
    "print(\"Reshaped array:\", reshaped_array)\n",
    "    "
   ]
  },
  {
   "cell_type": "code",
   "execution_count": null,
   "metadata": {},
   "outputs": [
    {
     "name": "stdout",
     "output_type": "stream",
     "text": [
      "Concatenated array: [[90.  2. 69. 42. 92. 50. 80. 99. 65. 10. 22. 32. 67.  9. 77. 61. 60.  2.\n",
      "  23. 25.]\n",
      " [ 9. 58.  1.  8. 83. 84. 25. 18. 66. 60. 55. 78. 29. 21. 90. 91. 85. 95.\n",
      "  12. 33.]\n",
      " [23. 74. 98. 87. 55. 35. 26. 63. 31. 28. 70. 88. 51. 30. 36. 68. 27. 93.\n",
      "  19. 85.]\n",
      " [77.  1. 75.  3. 85. 63. 72. 16. 88.  4.  9. 57. 60. 26.  6. 58. 43. 61.\n",
      "  16. 17.]\n",
      " [55. 60. 35. 38.  2. 14. 99. 36.  0. 18. 82. 55. 86. 90. 97.  2. 96. 16.\n",
      "  96. 55.]\n",
      " [ 1.  1.  1.  1.  1.  1.  1.  1.  1.  1.  1.  1.  1.  1.  1.  1.  1.  1.\n",
      "   1.  1.]]\n"
     ]
    }
   ],
   "source": [
    "\n",
    "# (2) Create a 1x20 array using np.ones, and concatenate it to the reshaped array along the rows\n",
    "new_array = ...\n",
    "concatenated_array = ...\n",
    "print(\"Concatenated array:\", concatenated_array)\n",
    "    "
   ]
  },
  {
   "attachments": {},
   "cell_type": "markdown",
   "metadata": {},
   "source": [
    "### 3. Logical operations and filtering"
   ]
  },
  {
   "cell_type": "code",
   "execution_count": null,
   "metadata": {},
   "outputs": [
    {
     "name": "stdout",
     "output_type": "stream",
     "text": [
      "Array after setting elements > 50 to 50: [[50  2 50 42 50 50 50 50 50 10]\n",
      " [22 32 50  9 50 50 50  2 23 25]\n",
      " [ 9 50  1  8 50 50 25 18 50 50]\n",
      " [50 50 29 21 50 50 50 50 12 33]\n",
      " [23 50 50 50 50 35 26 50 31 28]\n",
      " [50 50 50 30 36 50 27 50 19 50]\n",
      " [50  1 50  3 50 50 50 16 50  4]\n",
      " [ 9 50 50 26  6 50 43 50 16 17]\n",
      " [50 50 35 38  2 14 50 36  0 18]\n",
      " [50 50 50 50 50  2 50 16 50 50]]\n"
     ]
    }
   ],
   "source": [
    "\n",
    "# (1) Use boolean indexing to find all elements greater than 50, and set them to 50\n",
    "arr = ...\n",
    "print(\"Array after setting elements > 50 to 50:\", arr)\n",
    "    "
   ]
  },
  {
   "cell_type": "code",
   "execution_count": null,
   "metadata": {},
   "outputs": [
    {
     "name": "stdout",
     "output_type": "stream",
     "text": [
      "Even number positions: [[0 0]\n",
      " [0 1]\n",
      " [0 2]\n",
      " [0 3]\n",
      " [0 4]\n",
      " [0 5]\n",
      " [0 6]\n",
      " [0 7]\n",
      " [0 8]\n",
      " [0 9]\n",
      " [1 0]\n",
      " [1 1]\n",
      " [1 2]\n",
      " [1 4]\n",
      " [1 5]\n",
      " [1 6]\n",
      " [1 7]\n",
      " [2 1]\n",
      " [2 3]\n",
      " [2 4]\n",
      " [2 5]\n",
      " [2 7]\n",
      " [2 8]\n",
      " [2 9]\n",
      " [3 0]\n",
      " [3 1]\n",
      " [3 4]\n",
      " [3 5]\n",
      " [3 6]\n",
      " [3 7]\n",
      " [3 8]\n",
      " [4 1]\n",
      " [4 2]\n",
      " [4 3]\n",
      " [4 4]\n",
      " [4 6]\n",
      " [4 7]\n",
      " [4 9]\n",
      " [5 0]\n",
      " [5 1]\n",
      " [5 2]\n",
      " [5 3]\n",
      " [5 4]\n",
      " [5 5]\n",
      " [5 7]\n",
      " [5 9]\n",
      " [6 0]\n",
      " [6 2]\n",
      " [6 4]\n",
      " [6 5]\n",
      " [6 6]\n",
      " [6 7]\n",
      " [6 8]\n",
      " [6 9]\n",
      " [7 1]\n",
      " [7 2]\n",
      " [7 3]\n",
      " [7 4]\n",
      " [7 5]\n",
      " [7 7]\n",
      " [7 8]\n",
      " [8 0]\n",
      " [8 1]\n",
      " [8 3]\n",
      " [8 4]\n",
      " [8 5]\n",
      " [8 6]\n",
      " [8 7]\n",
      " [8 8]\n",
      " [8 9]\n",
      " [9 0]\n",
      " [9 1]\n",
      " [9 2]\n",
      " [9 3]\n",
      " [9 4]\n",
      " [9 5]\n",
      " [9 6]\n",
      " [9 7]\n",
      " [9 8]\n",
      " [9 9]]\n"
     ]
    }
   ],
   "source": [
    "\n",
    "# (2) Find the positions of all even numbers in the array\n",
    "even_positions = ...\n",
    "print(\"Even number positions:\", even_positions)\n",
    "    "
   ]
  },
  {
   "attachments": {},
   "cell_type": "markdown",
   "metadata": {},
   "source": [
    "### 4. Linear algebra operations"
   ]
  },
  {
   "cell_type": "code",
   "execution_count": null,
   "metadata": {},
   "outputs": [
    {
     "name": "stdout",
     "output_type": "stream",
     "text": [
      "Identity matrix: [[1. 0. 0.]\n",
      " [0. 1. 0.]\n",
      " [0. 0. 1.]]\n"
     ]
    }
   ],
   "source": [
    "\n",
    "# (1) Create a 3x3 identity matrix\n",
    "identity_matrix = ...\n",
    "print(\"Identity matrix:\", identity_matrix)\n",
    "    "
   ]
  },
  {
   "cell_type": "code",
   "execution_count": null,
   "metadata": {},
   "outputs": [
    {
     "name": "stdout",
     "output_type": "stream",
     "text": [
      "Random matrix: [[0.49372687 0.98313143 0.81270872]\n",
      " [0.27369507 0.06167916 0.56542312]\n",
      " [0.76514223 0.27931762 0.33958755]]\n",
      "Inverse matrix: [[-0.47221187 -0.36834367  1.74341121]\n",
      " [ 1.17093895 -1.56559546 -0.19555614]\n",
      " [ 0.100844    2.11766805 -0.82257217]]\n"
     ]
    }
   ],
   "source": [
    "\n",
    "# (2) Create a 3x3 random matrix and compute its inverse\n",
    "random_matrix = ...\n",
    "inv_matrix = ...  # Inverse of the matrix\n",
    "\n",
    "print(\"Random matrix:\", random_matrix)\n",
    "print(\"Inverse matrix:\", inv_matrix)\n",
    "    "
   ]
  },
  {
   "cell_type": "code",
   "execution_count": null,
   "metadata": {},
   "outputs": [
    {
     "name": "stdout",
     "output_type": "stream",
     "text": [
      "Matrix product (should be close to identity matrix): [[ 1.00000000e+00 -7.58922356e-17  1.23627128e-16]\n",
      " [ 7.62335439e-18  1.00000000e+00  3.14554139e-17]\n",
      " [ 2.23124797e-17  3.33628943e-17  1.00000000e+00]]\n"
     ]
    }
   ],
   "source": [
    "\n",
    "# (3) Matrix multiplication\n",
    "matrix_product = ...\n",
    "print(\"Matrix product (should be close to identity matrix):\", matrix_product)\n",
    "    "
   ]
  }
 ],
 "metadata": {
  "kernelspec": {
   "display_name": "Python 3 (ipykernel)",
   "language": "python",
   "name": "python3"
  },
  "language_info": {
   "codemirror_mode": {
    "name": "ipython",
    "version": 3
   },
   "file_extension": ".py",
   "mimetype": "text/x-python",
   "name": "python",
   "nbconvert_exporter": "python",
   "pygments_lexer": "ipython3",
   "version": "3.10.14"
  },
  "vscode": {
   "interpreter": {
    "hash": "17c9cd01fc19a9a90cd2d9717ed1dc76e1753efe3a6cf374e6e0052792c70890"
   }
  }
 },
 "nbformat": 4,
 "nbformat_minor": 4
}
