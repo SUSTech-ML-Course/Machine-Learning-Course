{
 "cells": [
  {
   "cell_type": "markdown",
   "metadata": {},
   "source": [
    "## Python Exercise (0.5 points)\n",
    "### Maze Exploration: Simulate a robot exploring a maze and print the results.\n",
    "\n",
    "You are given a map where '#' represents walls, '.' represents passable paths, 'S' represents the starting point, and 'E' represents the endpoint. You are also given a series of actions, where 'U', 'D', 'L', 'R' represent moving up, down, left, and right one step respectively.\n",
    "\n",
    "The robot starts from the starting point 'S' and moves through the maze according to the given action sequence. It moves one step at a time. If it encounters a wall or goes out of bounds, the robot stays in place. The exploration ends when all actions are executed or the endpoint 'E' is reached.\n",
    "\n",
    "#### Input\n",
    "A character matrix (maze map).\n",
    "A character sequence (action sequence).\n",
    "\n",
    "#### Output\n",
    "The result of the exploration:\n",
    "If the endpoint is reached, output \"Success\" and the number of steps taken.\n",
    "If the endpoint is not reached, output \"Fail\" and the robot's final position (in the format \"row,column\").\n"
   ]
  },
  {
   "cell_type": "markdown",
   "metadata": {},
   "source": [
    "#### Example"
   ]
  },
  {
   "cell_type": "code",
   "execution_count": null,
   "metadata": {},
   "outputs": [],
   "source": [
    "\"\"\"\n",
    "Input:\n",
    "Map:\n",
    "#####\n",
    "#S..#\n",
    "#.#.#\n",
    "#..E#\n",
    "#####\n",
    "Actions:\n",
    "RDLDDRR\n",
    "\n",
    "Output:\n",
    "Success 6\n",
    "\"\"\""
   ]
  },
  {
   "cell_type": "markdown",
   "metadata": {},
   "source": [
    " Implement the $explore\\_maze(maze, actions)$ function to solve this problem. The function should take the maze (as a list of lists) and the action sequence (as a string) as inputs, and return the result as specified in the output requirements.\n"
   ]
  },
  {
   "cell_type": "code",
   "execution_count": 2,
   "metadata": {},
   "outputs": [],
   "source": [
    "# Add your code here\n",
    "def explore_maze(maze, actions):\n",
    "    pass"
   ]
  },
  {
   "cell_type": "code",
   "execution_count": 3,
   "metadata": {},
   "outputs": [],
   "source": [
    "# test block, you may need to modify this block.\n",
    "def run_tests(explore_maze_func):\n",
    "    for test_case in range(1, 5):\n",
    "        with open(f'./pythonpractice_test_cases/{test_case}_map.txt', 'r') as f:\n",
    "            maze = [list(line.strip()) for line in f.readlines()]\n",
    "        print(f\"Test case {test_case} map:\")\n",
    "        for row in maze:\n",
    "            print(''.join(row))\n",
    "        \n",
    "        with open(f'./pythonpractice_test_cases/{test_case}_actions.txt', 'r') as f:\n",
    "            actions = f.read().strip()\n",
    "        print(f\"Actions: {actions}\")\n",
    "        \n",
    "        student_result = explore_maze_func(maze, actions)\n",
    "        print(f\"Your result: {student_result}\")\n",
    "        \n",
    "        with open(f'./pythonpractice_test_cases/{test_case}_output.txt', 'r') as f:\n",
    "            expected_output = f.read().strip()\n",
    "        print(f\"Expected output: {expected_output}\")\n",
    "        \n",
    "        if student_result == expected_output:\n",
    "            print(\"Test case passed!\\n\")\n",
    "        else:\n",
    "            print(\"Test case failed.\\n\")"
   ]
  },
  {
   "cell_type": "code",
   "execution_count": 4,
   "metadata": {},
   "outputs": [
    {
     "name": "stdout",
     "output_type": "stream",
     "text": [
      "Test case 1 map:\n",
      "#####\n",
      "#S..#\n",
      "#.#.#\n",
      "#..E#\n",
      "#####\n",
      "Actions: RDLDDRR\n",
      "Your result: None\n",
      "Expected output: Success 6\n",
      "Test case failed.\n",
      "\n",
      "Test case 2 map:\n",
      "##########\n",
      "#S...#...#\n",
      "#.##.#.#.#\n",
      "#.#..#.#.#\n",
      "#.#.##.#.#\n",
      "#.#....#E#\n",
      "##########\n",
      "Actions: DDRRUURRDDLLDDRRRRUU\n",
      "Your result: None\n",
      "Expected output: Fail 1,1\n",
      "Test case failed.\n",
      "\n",
      "Test case 3 map:\n",
      "#######\n",
      "#S....#\n",
      "#.###.#\n",
      "#.#E#.#\n",
      "#.###.#\n",
      "#.....#\n",
      "#######\n",
      "Actions: DDRRUULLDDRRRRUULL\n",
      "Your result: None\n",
      "Expected output: Fail 1,1\n",
      "Test case failed.\n",
      "\n",
      "Test case 4 map:\n",
      "#####################################\n",
      "#S...................................#\n",
      "#.#################################.#\n",
      "#.#.......#...........#...........#.#\n",
      "#.#.#####.#.#########.#.#########.#.#\n",
      "#.#.#...#.#.#.......#.#.#.......#.#.#\n",
      "#.#.#.#.#.#.#.#####.#.#.#.#####.#.#.#\n",
      "#.#.#.#.#.#.#.#...#.#.#.#.#...#.#.#.#\n",
      "#.#.#.#.#.#.#.#.#.#.#.#.#.#.#.#.#.#.#\n",
      "#.#.#.#.#.#.#.#.#.#.#.#.#.#.#.#.#.#.#\n",
      "#.#.#.#.#.#.#.#.#.#.#.#.#.#.#.#.#.#.#\n",
      "#...#.#.#.#.#.#.#.#.#.#.#.#.#.#.#...#\n",
      "#####.#.#.#.#.#.#.#.#.#.#.#.#.#.#####\n",
      "#.....#.#.#.#.#.#.#.#.#.#.#.#.#.....#\n",
      "#.#####.#.#.#.#.#.#.#.#.#.#.#.#####.#\n",
      "#.......#...#...#...#...#...#.......#\n",
      "#################################E###\n",
      "Actions: RRRRRDDDRRRUUURRRDDDLLLUUURRRRRRRRRRRRRRRRRRRRRRRRRRRRRRRRRRRRRDDLLLLLLLLLLLLLLLLLLLLLLLLLLLLUURRRRRRRRRRRRRRRRRRRRRRRRRRRRRDDDDDDDDDDDDDDLLLUUURRRDDDRRRUUULLLDDDRRRDDLLLUUURRRDDDRRRUUULLLDDDRRRUURRDDDLLLUUURRRDDLDLURURDDLDLURURDDDDDRRRRRRRRRRRRRRRRRRRRRRRRRRRRRRUU\n",
      "Your result: None\n",
      "Expected output: Fail 1,36\n",
      "Test case failed.\n",
      "\n"
     ]
    }
   ],
   "source": [
    "# Run the tests\n",
    "if __name__ == \"__main__\":\n",
    "    run_tests(explore_maze)"
   ]
  }
 ],
 "metadata": {
  "kernelspec": {
   "display_name": "Python 3 (ipykernel)",
   "language": "python",
   "name": "python3"
  },
  "language_info": {
   "codemirror_mode": {
    "name": "ipython",
    "version": 3
   },
   "file_extension": ".py",
   "mimetype": "text/x-python",
   "name": "python",
   "nbconvert_exporter": "python",
   "pygments_lexer": "ipython3",
   "version": "3.10.14"
  }
 },
 "nbformat": 4,
 "nbformat_minor": 4
}
