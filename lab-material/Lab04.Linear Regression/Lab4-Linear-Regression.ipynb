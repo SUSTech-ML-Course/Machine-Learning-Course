{
 "cells": [
  {
   "cell_type": "markdown",
   "id": "3bf9c335-bd1c-4d54-9b8d-9dc0049b7418",
   "metadata": {},
   "source": [
    "# <center>LAB4 tutorial for Machine Learning <br > Linear Regression</center>\n",
    "\n",
    "> The document description are designed by JIa Yanhong in 2022. Sept. 22th. Modified by Wang Daxing in 2023. Oct. 4th.\n",
    "\n",
    "## Objective\n",
    "\n",
    "- Master the  linear regression algorithm.\n",
    "- Understanding Gradient Descent\n",
    "- Polynomial Regression\n",
    "- Learn how to evaluate regression models\n",
    "- Complete the LAB assignment and submit it to BB.\n"
   ]
  },
  {
   "cell_type": "markdown",
   "id": "bf9a33c3",
   "metadata": {},
   "source": [
    "## 1 Linear Regression\n",
    "### 1.1 Conceptual Overview\n",
    "\n",
    "Linear Regression is **“supervised” “regression”** algorithm.\n",
    "\n",
    "<center><img src=\"images/classical-ml.png\" alt=\" \" style=\"zoom:80%;\" /></center>\n",
    "\n",
    "Supervised meaning we use labeled data to train the model.\n",
    "\n",
    "<center><img src=\"images/supervised-vs-unsupervised.png\" alt=\"supervised-vs-unsupervised\" style=\"zoom:150%;\" /> </center>\n",
    "\n",
    "Regression meaning we predict a numerical value, instead of a “class”.\n",
    "<center><img src=\"images/p1.png\" alt=\"p1 \" style=\"zoom:150%;\" /> </center>\n",
    "\n",
    "\n",
    "\n"
   ]
  },
  {
   "cell_type": "markdown",
   "id": "72faf252",
   "metadata": {},
   "source": [
    "### 1.2 Linear Regression\n",
    "\n",
    "In statistics, linear regression is a linear approach to modelling the relationship between a dependent variable and one or more independent variables. \n",
    "\n",
    "We will define a linear relationship between these two variables as follows:\n",
    "$$ y=\\theta _{0}+\\theta _{1}x_{1}$$ \n",
    "\n",
    "\n",
    "This is the equation for a line that you studied in high school. $\\theta _{1}$ is the slope of the line and $\\theta _{0}$ is the y intercept.\n",
    "\n",
    "\n",
    "<center><img src=\"images/p12.png\" alt=\"p12 \" style=\"zoom:100%;\" /> </center>\n",
    "When there are multiple independent variables, the linear relationship becomes as follows:\n",
    "\n",
    "$$y=\\theta _{0}+\\theta _{1}x_{1}+\\theta _{2}x_{2}+...+\\theta _{n}x_{n}$$\n",
    "\n",
    "\n",
    "<center><img src=\"images/p6_.png\" alt=\"p6 \" style=\"zoom:70%;\" /> </center>\n",
    "\n",
    "Let $\\vec{x}$ be the independent variable and **y** be the dependent variable. The general form of the model's prediction:\n",
    "\n",
    "$$\\hat{y}=h_{\\theta }(x)=\\theta _{0}+\\theta _{1}x_{1}+\\theta _{2}x_{2}+...+\\theta _{n}x_{n}=\\theta ^{T}\\cdot x$$\n",
    "$\\theta$ is the model’s parameter vector, containing the bias term $\\theta _{0}$ and the feature weights $\\theta _{1}$ to $\\theta _{n}$. (n = number of features).\n",
    "\n",
    "$\\theta ^{T}\\cdot x$ is the dot product of the vectors $\\theta$ and $x$, which is, of course, equal to $\\theta _{0}+\\theta _{1}x_{1}+\\theta _{2}x_{2}+...+\\theta _{n}x_{n}$.\n",
    "\n",
    "There is an error between the real y and the predicted $\\hat{y}$:\n",
    "\n",
    "$$y=\\hat{y}+\\varepsilon =h_{\\theta }(x)+\\varepsilon =\\theta ^{T}\\cdot x+\\varepsilon $$\n",
    "\n",
    "Our challenge today is to determine the value of $\\theta$. \n",
    "\n",
    "For a single variable, such that the line corresponding to those values is the best fitting line .\n",
    "\n",
    "For multiple variables, such as 2 variables, the surface corresponding to these values is the surface of best fit.\n",
    "\n",
    "<center><img src=\"images/p8.png\" alt=\"p8 \" style=\"zoom:120%;\" /></center>"
   ]
  },
  {
   "cell_type": "markdown",
   "id": "20855b7b",
   "metadata": {},
   "source": [
    "### 1.3 Cost Function\n",
    "\n",
    "\n",
    "Cost Function evaluates the model’s predictions and tells us how accurate are the model’s predictions. The lower the value of the cost function, better accurate the predictions of the model. They are many cost functions to choose, but we will use the Mean Squared Error (MSE) cost function.\n",
    "\n",
    "The MSE function calculates the average of the squared difference between the prediction and the actual value (y).\n",
    "\n",
    "$$J(\\theta )=MSE=\\frac{1}{2m}\\sum_{j=1}^{m}(h_{\\theta }(x^{j})-y^{j})^{2} = \\frac{1}{2m}\\sum_{j=1}^{m}(\\theta _{0}+\\theta _{1}x_{1}^{j}+\\theta _{2}x_{2}^{j}+...+\\theta _{n}x_{n}^{j}-y^{j})^{2}$$\n",
    "> $x_{i}^{j}$: the $i_{th}$ feature of the $j^{th}$ sample\n",
    "> \n",
    "> $y_{i}^{j}$: the $i_{th}$ label of the $j^{th}$ sample\n",
    "> \n",
    "> $(x^{j},y^{j})$: the $j^{th}$ sample\n",
    "> \n",
    "> $m$ : total number of instances in your dataset\n",
    "\n"
   ]
  },
  {
   "cell_type": "markdown",
   "id": "6cb0e74e",
   "metadata": {},
   "source": [
    "### 1.4 Least-squares estimation\n",
    "\n",
    "Now that we have determined the cost function, the only thing left to do is minimize it. \n",
    "This is done by finding the partial derivative of $J(\\Theta )$, equating it to 0 and then finding an expression for $\\Theta$ .\n",
    "\n",
    "The loss function can be written as:\n",
    "\n",
    "\\begin{aligned} \n",
    "J(\\theta )&=\\frac{1}{2m}\\sum_{j=1}^{m}(h_{\\theta }(x^{j})-y^{j})^{2}\\\\\n",
    "&=\\frac{1}{2m}\\sum_{j=1}^{m}(\\theta ^{T}\\cdot x^{j}-y^{j})^{2} \\\\\n",
    "&= \\frac{1}{2m}(X\\theta - y)^{T}(X\\theta -y )\n",
    "\\end{aligned}\n",
    "\n",
    "\n",
    "As the loss is convex the optimum solution lies at gradient zero. The gradient of the loss function is ：\n",
    "\\begin{aligned} \n",
    "\\frac{\\partial  J(\\theta )}{\\partial  \\theta } \n",
    "&= \\frac{\\partial  \\frac{1}{2m}(X\\theta - y)^{T}(X\\theta -y )}{\\partial  \\theta } \\\\\n",
    "&= \\frac{\\partial  \\frac{1}{2m}(\\theta^{T}X^{T} - y^{T})(X\\theta -y )}{\\partial  \\theta } \\\\\n",
    "&= \\frac{\\partial  \\frac{1}{2m}(\\theta^{T}X^{T}X\\theta-\\theta^{T}X^{T}y-y^{T}X\\theta+y^{T}y)}{\\partial  \\theta } \\\\\n",
    "&= \\frac{1}{2m}(2X^{T}X\\theta-X^{T}y-(y^{T}X)^{T}) \\\\\n",
    "&= \\frac{1}{m}(X^{T}X\\theta - X^{T}y)\n",
    "\\end{aligned}\n",
    "\n",
    "\n",
    "When X is a matrix of full rank, setting the gradient to zero produces the optimum parameter:\n",
    "\\begin{aligned} \n",
    "\\theta ^{*}=(X^{T}X)^{-1}X^{T}y\n",
    "\\end{aligned}\n",
    "\n",
    "\n",
    "\\begin{aligned} \n",
    "X=\n",
    "\\begin{Bmatrix}\n",
    " &1  &x_{1}^{1}  &x_{2}^{1}  &... &x_{n}^{1} \\\\ \n",
    " &1  &x_{1}^{2}  &x_{2}^{2}  &... &x_{n}^{2} \\\\ \n",
    " &...  &  &  & &...\\\\ \n",
    " &1  &x_{1}^{m}  &x_{2}^{m}  &... &x_{n}^{m}\n",
    "\\end{Bmatrix},\n",
    "y = \\begin{Bmatrix} y_{0}\\\\ y_{1}\\\\ y_{2}\\\\ ...\\\\ y_{m} \\end{Bmatrix},\\theta = \\begin{Bmatrix} \\theta _{0}\\\\ \\theta _{1}\\\\ \\theta _{2}\\\\ ...\\\\ \\theta _{n} \\end{Bmatrix}\n",
    "\\end{aligned}"
   ]
  },
  {
   "cell_type": "markdown",
   "id": "73bc05ba",
   "metadata": {},
   "source": [
    "#### Hands-on Coding"
   ]
  },
  {
   "cell_type": "code",
   "execution_count": 1,
   "id": "78e51eab",
   "metadata": {},
   "outputs": [
    {
     "data": {
      "image/png": "[encoded data removed]",
      "text/plain": [
       "<Figure size 640x480 with 1 Axes>"
      ]
     },
     "metadata": {},
     "output_type": "display_data"
    }
   ],
   "source": [
    "import numpy as np\n",
    "from sklearn.model_selection import train_test_split\n",
    "from sklearn.metrics import r2_score\n",
    "\n",
    "import matplotlib.pyplot as plt\n",
    "np.random.seed(42)\n",
    "X = np.random.randn(1000, 1)\n",
    "\n",
    "# y = 5 + 3 * X + Gaussian noise -> because in real-world it is very unlikely to get data that has a perfect linear relationship\n",
    "y = 5 + 3 * X + np.random.randn(1000, 1)\n",
    "plt.scatter(X, y)\n",
    "plt.show()\n"
   ]
  },
  {
   "cell_type": "code",
   "execution_count": 2,
   "id": "53e2406b",
   "metadata": {},
   "outputs": [
    {
     "name": "stdout",
     "output_type": "stream",
     "text": [
      "[[5.08703256]\n",
      " [2.93815133]]\n"
     ]
    },
    {
     "data": {
      "text/plain": [
       "0.8961012486926588"
      ]
     },
     "execution_count": 2,
     "metadata": {},
     "output_type": "execute_result"
    }
   ],
   "source": [
    "X_b = np.c_[np.ones((1000, 1)), X]  # Adding the bias term which is equal to 1\n",
    "\n",
    "# Dividing the data into train and test sets    \n",
    "X_train, X_test, y_train, y_test = train_test_split(X_b, y, test_size=0.2, random_state=42)\n",
    "\n",
    "theta_optimize = np.linalg.inv(X_train.T.dot(X_train)).dot(X_train.T).dot(y_train)\n",
    "\n",
    "#Output\n",
    "#obtained feature weights  w0 = 5.04, w1 = 2.94\n",
    "print(theta_optimize)\n",
    "\n",
    "# Predicting new data with the obtained feature weights\n",
    "y_pred = X_test.dot(theta_optimize)\n",
    "r2_score(y_test, y_pred)\n"
   ]
  },
  {
   "cell_type": "code",
   "execution_count": 3,
   "id": "057b5ce3",
   "metadata": {},
   "outputs": [
    {
     "data": {
      "image/png": "[encoded data removed]",
      "text/plain": [
       "<Figure size 640x480 with 1 Axes>"
      ]
     },
     "metadata": {},
     "output_type": "display_data"
    }
   ],
   "source": [
    "plt.scatter(X, y) \n",
    "plt.plot([min(X), max(X)], [min(y_pred), max(y_pred)], color='red')  # regression line\n",
    "plt.show()"
   ]
  },
  {
   "cell_type": "markdown",
   "id": "f7667c1c",
   "metadata": {},
   "source": [
    "You have seen it has predicted the feature weights very close to the actual values ($y = 5 + 3*X + Gaussian noise$), but due to the noise in the data it is unable to predict the exact values, but the predictions were close enough.\n",
    "\n",
    "#### Disadvantages\n",
    "\n",
    "- It is computationally expensive if you have a large number of features.\n",
    "- If there are any redundant features in your data, they the matrix inversion in the normal equation is not possible. In that case, the inverse can be replaced by the pseudo inverse."
   ]
  },
  {
   "cell_type": "markdown",
   "id": "5b92786d",
   "metadata": {},
   "source": [
    "### 1.5 Gradient Descent\n",
    "\n",
    "In this section you can learn how the gradient descent algorithm works and implement it from scratch in python.\n",
    "\n",
    "Gradient Descent minimizes the cost function by iteratively moving in the direction of steepest descent, updating the parameters along the way.\n",
    "\n",
    "<center><img src=\"images/gradient-descent-algorithm.jpg\" alt=\"gradient-descent-algorithm \" style=\"zoom:80%;\" /></center>\n",
    "\n",
    "In a real world example, it is similar to find out a best direction to take a step downhill.\n",
    "\n",
    "<center><img src=\"images/downhill.png\" alt=\"img \" style=\"zoom:100%;\" /></center>\n",
    "\n",
    "\n",
    "\n",
    "We take a step towards the direction to get down. From the each step, you look out the direction again to get down faster and downhill quickly. \n",
    "\n",
    "\n",
    "\n",
    "\n",
    "To find the best minimum, repeat steps to apply various values for $\\theta$. In other words, repeat steps until convergence.\n",
    "\n",
    "<center><img src=\"images/p13.png\" alt=\"img \" style=\"zoom:110%;\" /></center>\n",
    "\n",
    "\n",
    "The choice of correct learning rate is very important as it ensures that Gradient Descent converges in a reasonable time. \n",
    " \n",
    "\n",
    "- If we choose α to be very small, Gradient Descent will take small steps to reach local minima and will take a longer time to reach minima.  \n",
    "\n",
    "- If we choose **α to be very large**, Gradient Descent can overshoot the minimum. It may fail to converge or even diverge. \n",
    "\n",
    "<center><img src=\"images/learning-rate.png\" alt=\"img \" style=\"zoom:50%;\" /></center>"
   ]
  },
  {
   "cell_type": "markdown",
   "id": "d18d2a74",
   "metadata": {},
   "source": [
    "#### Hands-on Coding\n",
    "#####  implement Linear Regression from scratch\n"
   ]
  },
  {
   "cell_type": "code",
   "execution_count": 4,
   "id": "fcfe3c53",
   "metadata": {},
   "outputs": [
    {
     "name": "stdout",
     "output_type": "stream",
     "text": [
      "[[5.0656356 ]\n",
      " [2.92197972]]\n"
     ]
    },
    {
     "data": {
      "text/plain": [
       "0.8960345697417689"
      ]
     },
     "execution_count": 4,
     "metadata": {},
     "output_type": "execute_result"
    }
   ],
   "source": [
    "import numpy as np\n",
    "from sklearn.metrics import r2_score\n",
    "\n",
    "np.random.seed(42)\n",
    "\n",
    "learning_rate = 0.1\n",
    "iterations = 50\n",
    "m = X_train.shape[0] # total number of samples\n",
    "theta = np.random.randn(2,1) # random initialization\n",
    "for iteration in range(iterations):\n",
    "    gradient = 1/m * X_train.T.dot(X_train.dot(theta) - y_train)\n",
    "    theta = theta - learning_rate * gradient\n",
    "\n",
    "# Output\n",
    "print(theta)\n",
    "\n",
    "\n",
    "# array([[5.08703256],\n",
    "#        [2.93815133]])\n",
    "\n",
    "# Predicting new values with gradient descent\n",
    "y_pred = X_test.dot(theta)\n",
    "r2_score(y_test, y_pred)"
   ]
  },
  {
   "cell_type": "code",
   "execution_count": 5,
   "id": "7e65baab",
   "metadata": {},
   "outputs": [
    {
     "data": {
      "image/png": "[encoded data removed]",
      "text/plain": [
       "<Figure size 640x480 with 1 Axes>"
      ]
     },
     "metadata": {},
     "output_type": "display_data"
    }
   ],
   "source": [
    "plt.scatter(X, y) \n",
    "plt.plot([min(X), max(X)], [min(y_pred), max(y_pred)], color='red')  # regression line\n",
    "plt.show()"
   ]
  },
  {
   "cell_type": "markdown",
   "id": "322e1b46",
   "metadata": {},
   "source": [
    "##### Implementing Linear Regression in Scikit-Learn"
   ]
  },
  {
   "cell_type": "code",
   "execution_count": 6,
   "id": "ec4ed1d3",
   "metadata": {},
   "outputs": [
    {
     "name": "stdout",
     "output_type": "stream",
     "text": [
      "[5.08703256]\n",
      "[[2.93815133]]\n"
     ]
    },
    {
     "data": {
      "text/plain": [
       "0.8961012486926588"
      ]
     },
     "execution_count": 6,
     "metadata": {},
     "output_type": "execute_result"
    }
   ],
   "source": [
    "from sklearn.linear_model import LinearRegression\n",
    "\n",
    "X_train = X_train[:, 1] # The sklearn model will automatically add the bias term so we donot have to add it\n",
    "X_test = X_test[:, 1]\n",
    "\n",
    "\n",
    "linear_regression = LinearRegression()\n",
    "linear_regression.fit(X_train.reshape(-1, 1), y_train)\n",
    "print(linear_regression.intercept_)\n",
    "# Output\n",
    "#array([5.08703256])\n",
    "\n",
    "print(linear_regression.coef_)\n",
    "# Ouput\n",
    "#array([[2.93815133]])\n",
    "\n",
    "# Predicting new values and calculating the r2_score\n",
    "linear_regression.score(X_test.reshape(-1, 1), y_test)\n",
    "\n",
    "# output\n",
    "#0.8961012486926588"
   ]
  },
  {
   "cell_type": "markdown",
   "id": "af7efafe",
   "metadata": {},
   "source": [
    "As you can see the values we got from the normal equation, gradient descent, sklearn are nearly the same.\n",
    "\n",
    "#### Disadvantages\n",
    "\n",
    "- There are possibilities for the gradient descent to stuck in a local minimum if you use another cost function that is not of a convex shape.\n",
    "- You should find the appropriate value for the learning rate.\n",
    "\n",
    "\n",
    "Well if you have read this far and everything makes sense pat yourself on the back!. You have learned all the underlying concepts of linear regression.\n",
    "A"
   ]
  },
  {
   "cell_type": "markdown",
   "id": "d1dee1c0",
   "metadata": {},
   "source": [
    "### 1.6 [Polynomial Regression](https://en.wikipedia.org/wiki/Polynomial_regression)\n",
    "\n",
    "We use polynomial regression when the relationship between  the independent and dependent variables is nonlinear.\n",
    "\n",
    "\n",
    "<center><img src=\"images/p2.png\" alt=\"p2 \" style=\"zoom:120%;\" /></center>\n",
    "\n",
    "This is accomplished by \"exponentiating\" our variable by taking it to powers greater than 1.\n",
    "\n",
    "<center><img src=\"images/p3.png\" alt=\"p3 \" style=\"zoom:60%;\" /></center>"
   ]
  },
  {
   "cell_type": "markdown",
   "id": "f021b67a",
   "metadata": {},
   "source": [
    "#### Hands-on Coding"
   ]
  },
  {
   "cell_type": "code",
   "execution_count": 7,
   "id": "fe988546",
   "metadata": {},
   "outputs": [],
   "source": [
    "#step 1: Import the required libraries\n",
    "import numpy as np\n",
    "from scipy import stats\n",
    "import matplotlib.pyplot as plt\n",
    "from sklearn.preprocessing import PolynomialFeatures\n",
    "from sklearn.linear_model import LinearRegression\n",
    "from sklearn.metrics import r2_score,mean_squared_error\n",
    "from sklearn.model_selection import train_test_split"
   ]
  },
  {
   "cell_type": "code",
   "execution_count": 8,
   "id": "ef2b1347",
   "metadata": {},
   "outputs": [
    {
     "data": {
      "image/png": "[encoded data removed]",
      "text/plain": [
       "<Figure size 640x480 with 1 Axes>"
      ]
     },
     "metadata": {},
     "output_type": "display_data"
    }
   ],
   "source": [
    "#step2: Load the data set. Here,We're generating data \n",
    "sample_cnt= 100\n",
    "#X = np.linspace(start = -8, stop = 8, num = sample_cnt)\n",
    "X = np.random.uniform(-3,3,size=100)\n",
    "\n",
    "# curve using polynomial\n",
    "θ0, θ1, θ2, θ3 = 0.2, 1, 0.5, -0.4\n",
    "y = θ0 + θ1*X + θ2*(X**2) + θ3*(X**3) + np.random.normal(0,1,size = sample_cnt)\n",
    "\n",
    "plt.scatter(X,y)\n",
    "plt.xlabel('X')\n",
    "plt.ylabel('y')\n",
    "plt.savefig('regu-0.png', dpi=200)\n",
    "plt.show()"
   ]
  },
  {
   "cell_type": "code",
   "execution_count": 9,
   "id": "aabf4314",
   "metadata": {},
   "outputs": [
    {
     "name": "stdout",
     "output_type": "stream",
     "text": [
      "The equation: y = -1.4623971689071653x+1.9344273366540403\n",
      "[1.93442734] [[-1.46239717]]\n",
      "0.0640863835493316\n"
     ]
    },
    {
     "data": {
      "image/png": "[encoded data removed]",
      "text/plain": [
       "<Figure size 640x480 with 1 Axes>"
      ]
     },
     "metadata": {},
     "output_type": "display_data"
    }
   ],
   "source": [
    "#split data\n",
    "X_train, X_test, y_train, y_test = train_test_split(X, y, train_size=0.8,random_state=1)\n",
    "\n",
    "# step 3: using a linear regression model to predict\n",
    "lin_reg = LinearRegression()\n",
    "lin_reg.fit(X_train.reshape(-1,1), y_train.reshape(-1,1))\n",
    "\n",
    "y_pred = lin_reg.predict(X_train.reshape(-1,1))\n",
    "\n",
    "a = lin_reg.coef_[0][0]\n",
    "b = lin_reg.intercept_[0]\n",
    "\n",
    "plt.plot(X, y, 'b.')\n",
    "# plt.plot([min(X_train), max(X_train)], [min(y_pred), max(y_pred)], color='red')  # regression line\n",
    "plt.plot(X_train, y_pred, 'r-')\n",
    "plt.xlabel('X')\n",
    "plt.ylabel('y')\n",
    "plt.savefig('regu-1.png', dpi=200)\n",
    "print(\"The equation: y = {}x+{}\".format(a,b))\n",
    "#Calculate the error and evaluate the model\n",
    "print(lin_reg.intercept_, lin_reg.coef_) \n",
    "print(r2_score(y_pred, y_train)) \n",
    "plt.show()\n"
   ]
  },
  {
   "cell_type": "code",
   "execution_count": 10,
   "id": "a837e39e",
   "metadata": {},
   "outputs": [
    {
     "name": "stdout",
     "output_type": "stream",
     "text": [
      "[0.0253991] [[-1.21577111  0.62996561]]\n"
     ]
    },
    {
     "data": {
      "image/png": "[encoded data removed]",
      "text/plain": [
       "<Figure size 640x480 with 1 Axes>"
      ]
     },
     "metadata": {},
     "output_type": "display_data"
    },
    {
     "name": "stdout",
     "output_type": "stream",
     "text": [
      "The equation: y = -1.216x^2+0.630x+0.025\n",
      "0.6395847705797559\n",
      "0.1295465340821086\n"
     ]
    }
   ],
   "source": [
    "# Use a polynomial with degree of 2\n",
    "ploy  = PolynomialFeatures(degree=2, include_bias=False)\n",
    "X_train2 = ploy.fit_transform(X_train.reshape(-1,1))\n",
    "\n",
    "lin_reg = LinearRegression()\n",
    "lin_reg.fit(X_train2, y_train.reshape(-1,1))\n",
    "print(lin_reg.intercept_, lin_reg.coef_)  # [ 2.60996757] [[-0.12759678  0.9144504 ]]\n",
    "a = lin_reg.coef_[0][0]\n",
    "b = lin_reg.coef_[0][1]\n",
    "c = lin_reg.intercept_[0]\n",
    "\n",
    "y_pred = np.dot(X_train2, lin_reg.coef_.T) + lin_reg.intercept_\n",
    "\n",
    "plt.plot(X_train, y_train, 'b.')\n",
    "plt.plot(np.sort(X_train),y_pred[np.argsort(X_train)],color='r')\n",
    "\n",
    "plt.savefig('regu-2.png', dpi=200)\n",
    "plt.show()\n",
    "print(\"The equation: y = {:.3f}x^2+{:.3f}x+{:.3f}\".format(a,b,c))\n",
    "print(r2_score(y_pred, y_train)) \n",
    "print(r2_score(np.dot(ploy.transform(X_test.reshape(-1,1)), lin_reg.coef_.T) + lin_reg.intercept_, y_test)) "
   ]
  },
  {
   "cell_type": "markdown",
   "id": "69be5e9d",
   "metadata": {},
   "source": [
    "As the data extending to polynomial features, the value would be extremely large or small because of the power operation. That will influence the use of gradient descent which runs in background when we call fit(). So a normalization or standardization is necessary. See `StandardScaler` in preprocessing.\n",
    "\n",
    "`Pipeline` can help us assemble several preprocessing functions and the learning process together."
   ]
  },
  {
   "cell_type": "code",
   "execution_count": 11,
   "id": "7158c51c",
   "metadata": {},
   "outputs": [
    {
     "data": {
      "image/png": "[encoded data removed]",
      "text/plain": [
       "<Figure size 640x480 with 1 Axes>"
      ]
     },
     "metadata": {},
     "output_type": "display_data"
    },
    {
     "name": "stdout",
     "output_type": "stream",
     "text": [
      "The equation: [[ 0.          1.65603834  1.52914098 -4.15373307]] [2.49147196]\n",
      "The equation: y = 0.000x^3+1.656x^2+1.529x+-4.154\n",
      "0.9413635998834047\n",
      "0.8303023309883463\n"
     ]
    }
   ],
   "source": [
    "# Use a polynomial with degree of 3\n",
    "from sklearn.pipeline import Pipeline\n",
    "from sklearn.preprocessing import StandardScaler\n",
    "from sklearn.preprocessing import PolynomialFeatures\n",
    "\n",
    "poly_reg = Pipeline([\n",
    "    ('poly', PolynomialFeatures(degree=3)),\n",
    "    ('std_scaler', StandardScaler()),\n",
    "    ('lin_reg', LinearRegression())\n",
    "])\n",
    "\n",
    "poly_reg.fit(X_train.reshape(-1,1), y_train.reshape(-1,1))\n",
    "\n",
    "\n",
    "y_pred = poly_reg.predict(X_train.reshape(-1,1))\n",
    "\n",
    "\n",
    "plt.plot(X_train, y_train, 'b.')\n",
    "plt.plot(X_test, y_test, 'g.')\n",
    "plt.plot(np.sort(X_train),y_pred[np.argsort(X_train)],color='r')\n",
    "\n",
    "plt.savefig('regu-3.png', dpi=200)\n",
    "plt.show()\n",
    "params =poly_reg.named_steps['lin_reg']\n",
    "print(\"The equation:\",poly_reg.named_steps['lin_reg'].coef_,poly_reg.named_steps['lin_reg'].intercept_)\n",
    "print(\"The equation: y = {:.3f}x^3+{:.3f}x^2+{:.3f}x+{:.3f}\".format(params.coef_[0][0],params.coef_[0][1],params.coef_[0][2],params.coef_[0][3],params.intercept_[0]))\n",
    "print(r2_score(y_pred, y_train)) \n",
    "print(r2_score(poly_reg.predict(X_test.reshape(-1,1)), y_test)) \n",
    "#print(mean_squared_error(y_pred, y)) "
   ]
  },
  {
   "cell_type": "markdown",
   "id": "446c6151",
   "metadata": {},
   "source": [
    "In practice,  we  need to select the \"degree\" of the polynomial.\n",
    "\n",
    "<center><img src=\"images/degree-of-polynomial.png\" alt=\"degree-of-polynomial\" style=\"zoom:120%;\" /></center>\n",
    "\n",
    "Our selection should seek to fit the current data well, and generalize to new data.\n",
    "\n",
    "<center><img src=\"images/fit.png\" alt=\"fit\" style=\"zoom:120%;\" /></center>\n",
    "\n",
    "This challenge is known as the [\"bias variance tradeoff\"](https://scott.fortmann-roe.com/docs/BiasVariance.html).\n",
    "\n",
    "<center><img src=\"images/bias-variance-tradeoff.png\" alt=\"bias-variance-tradeoff \" style=\"zoom:100%;\" /></center>\n",
    "\n",
    "<font color = \"red\">Bias usually caused by underfitting, Variance caused by overfitting. </font> What can we do to solve this problem? \n",
    "- 1. Choose a better polynomial degree.\n",
    "As we increase the degree, the bias decreases, but the variance increases. We want to stop where these two factors are minimized.\n",
    "<center><img src=\"images/optimal-capacity.png\" alt=\"optimal-capacity\" style=\"zoom:120%;\" /></center>\n",
    "\n",
    "> Note:  polynomial regression is very sensitive to outliers, and we must take care when selecting the degree to avoid overfitting.\n",
    "\n",
    "- 2. Regularization .Regularization in scikit learn is [`RidgeRegression`](https://en.wikipedia.org/wiki/Ridge_regression#:~:text=Ridge%20regression%20is%20a%20method%20of%20estimating%20the,in%20many%20fields%20including%20econometrics%2C%20chemistry%2C%20and%20engineering.) ,which is  in [linear_model](https://scikit-learn.org/stable/modules/generated/sklearn.linear_model.Ridge.html). Use it if you need regularization in your model.\n",
    "  \n",
    "    Ridge regression is also known as L2 regularization. It is a regularized version of linear regression to find a better fitting line. It adds l2 penalty terms in the cost function and thereby reducing coefficients lower towards zero and minimizing their impact on the training data. It is useful to avoid over-fitting of the data in a model. The alpha parameter of a model is used to calculate cost function to manage bias-variance tradeoff and reduce an error in prediction.\n",
    "\n",
    "\\begin{aligned} \n",
    "J(\\theta )&=\\frac{1}{2m}\\sum_{j=1}^{m}(h_{\\theta }(x^{j})-y^{j})^{2}+\\, \\alpha \\sum_{i=1}^{n}\\theta _{i}^2\\\\\n",
    "&= \\frac{1}{2m}(X\\theta - y)^{T}(X\\theta -y )+\\alpha \\theta ^{T}\\theta \n",
    "\\end{aligned}\n"
   ]
  },
  {
   "cell_type": "markdown",
   "id": "62ddb0c9",
   "metadata": {},
   "source": [
    " - 3. Use training set, validation set and test set or [cross validation](https://scikit-learn.org/stable/modules/cross_validation.html) to acquire a better model.\n",
    " ## 2 [Cross-validation](https://scikit-learn.org/stable/modules/cross_validation.html)\n",
    "\n",
    "    We often use cross validation to select parameters or to select models.\n",
    "    \n",
    "<center><img src=\"images/grid_search_workflow.png\" alt=\"grid_search_workflow \" style=\"zoom:30%;\" /></center><br/>\n",
    "\n",
    "<center><img src=\"images/grid_search_cross_validation.png\" alt=\"grid_search_cross_validation \" style=\"zoom:80%;\" /></center>\n",
    "\n",
    "For more detail: \n",
    "- https://scikit-learn.org/stable/modules/cross_validation.html\n",
    "- https://en.wikipedia.org/wiki/Cross-validation_(statistics)\n",
    "- https://scikit-learn.org/stable/modules/generated/sklearn.model_selection.GridSearchCV.html\n",
    " \n"
   ]
  },
  {
   "cell_type": "code",
   "execution_count": 12,
   "id": "f2ae98ab",
   "metadata": {},
   "outputs": [
    {
     "data": {
      "image/png": "[encoded data removed]",
      "text/plain": [
       "<Figure size 640x480 with 1 Axes>"
      ]
     },
     "metadata": {},
     "output_type": "display_data"
    }
   ],
   "source": [
    "import numpy as np\n",
    "import matplotlib.pyplot as plt\n",
    "import pandas as pd\n",
    "from sklearn.model_selection import train_test_split\n",
    "from sklearn.linear_model import Lasso, Ridge\n",
    "from sklearn.model_selection import GridSearchCV\n",
    "from sklearn.pipeline import Pipeline\n",
    "from sklearn.preprocessing import StandardScaler\n",
    "from sklearn.preprocessing import PolynomialFeatures\n",
    "from sklearn.linear_model import LinearRegression\n",
    "\n",
    "sample_cnt= 100\n",
    "X = np.random.uniform(-3,3,size=100).reshape(-1, 1)\n",
    "\n",
    "\n",
    "# curve using polynomial\n",
    "θ0, θ1, θ2, θ3 = 2, 1, 0.5, 0\n",
    "y = θ0 + θ1*X + θ2*(X**2) + θ3*(X**3)\n",
    "y += np.random.normal(0,1,size = sample_cnt).reshape(-1, 1)\n",
    "X_train, X_test, y_train, y_test = train_test_split(X, y, random_state=1)\n",
    "\n",
    "plt.scatter(X,y)\n",
    "plt.show()"
   ]
  },
  {
   "cell_type": "code",
   "execution_count": 13,
   "id": "70ce0712",
   "metadata": {},
   "outputs": [
    {
     "name": "stdout",
     "output_type": "stream",
     "text": [
      "The highest score of cross validation:0.837\n",
      "\n",
      "The best parameters:{'poly__degree': 2, 'ridge__alpha': 2.5, 'ridge__max_iter': 5}\n",
      "\n",
      "The highest score:0.897\n",
      "\n"
     ]
    },
    {
     "name": "stderr",
     "output_type": "stream",
     "text": [
      "D:\\C\\miniconda3\\envs\\aienv\\lib\\site-packages\\numpy\\ma\\core.py:2820: RuntimeWarning: invalid value encountered in cast\n",
      "  _data = np.array(data, dtype=dtype, copy=copy,\n"
     ]
    }
   ],
   "source": [
    "model = Pipeline([\n",
    "    ('poly', PolynomialFeatures()),\n",
    "    ('std_scaler', StandardScaler()),\n",
    "    ('ridge', Ridge())\n",
    "])\n",
    "params = { 'poly__degree':[1,2,3,4],\n",
    "'ridge__alpha':list(x / 10 for x in range(0, 101)),\n",
    "          'ridge__max_iter':[5,10,100,1000]}\n",
    "\n",
    "\n",
    "grid_search = GridSearchCV(model, param_grid=params, cv=5)\n",
    "grid_search.fit(X_train, y_train)\n",
    "print('The highest score of cross validation:{:.3f}\\n'.format(grid_search.best_score_))\n",
    "print('The best parameters:{}\\n'.format( grid_search.best_params_))\n",
    "print('The highest score:{:.3f}\\n'.format(grid_search.score(X_test,y_test)))\n",
    "\n",
    "# y_hat = grid_search.predict(np.array(X_test))\n",
    "# t = np.arange(len(X_test))\n",
    "# plt.plot(t, y_test, 'r-', linewidth=2, label='Test')\n",
    "# plt.plot(t, y_hat, 'g-', linewidth=2, label='Predict')\n",
    "# plt.legend(loc='upper right')\n",
    "# plt.grid()\n",
    "# plt.show()"
   ]
  },
  {
   "cell_type": "markdown",
   "id": "8f9bf7ec",
   "metadata": {},
   "source": [
    "## 3 Evaluation for Regression Models\n",
    "\n",
    "Metrics commonly used to evaluate regression models are:\n",
    "\n",
    "- Mean Absolute Error\n",
    "- Mean Squared Error (MSE)\n",
    "- Root Mean Squared Error (RMSE)\n",
    "- R-Squared\n",
    "\n",
    "\n",
    "\n",
    "### 1）Mean Absolute Error\n",
    "\n",
    "![img](images/MAE.png)\n",
    "\n",
    "```python\n",
    "def MAE(y, y_pre):\n",
    "    return np.mean(np.abs(y - y_pre))\n",
    "```\n",
    "\n",
    "**Advantages**\n",
    "\n",
    "- MAE is not sensitive to outliers. Use MAE when you do not want outliers to play a big role in error calculated.\n",
    "\n",
    "**Disadvantages**\n",
    "\n",
    "- MAE is not differentiable globally. This is not convenient when we use it as a loss function, due to the gradient optimization method.\n",
    "\n",
    "### 2) Mean Squared Error (MSE)\n",
    "\n",
    "![img](images/MSE.png)\n",
    "```python\n",
    "def MSE(y, y_pre):\n",
    "    return np.mean((y - y_pre) ** 2)\n",
    "```\n",
    "\n",
    "**Advantages**\n",
    "\n",
    "- Graph of MSE is differantiable which means it can be easily used as a loss function.\n",
    "- MSE can be decomposed into variance and bias squared. This helps us understand the effect of variance or bias in data to the overall error.\n",
    "\n",
    "![img](images/dF42UODmyd4-qX_m-lPTqw.png)\n",
    "\n",
    "** Disadvantages**\n",
    "\n",
    "- The value calculated MSE has a different unit than the target variable since it is squared. (Ex. meter → meter²)\n",
    "- If there exists outliers in the data, then they are going to result in a larger error. Therefore, MSE is not robust to outliers (this can also be an advantage if you are looking to penalize outliers).\n",
    "\n",
    "\n",
    "\n",
    "\n",
    "\n",
    "### 3) Root Mean Squared Error (RMSE)\n",
    "\n",
    "![img](images/RMSE.png)\n",
    "\n",
    "```python\n",
    "def RMSE(y, y_pre):\n",
    "    return np.sqrt(np.mean((y - y_pre) ** 2))\n",
    "```\n",
    "\n",
    "\n",
    "\n",
    "**Advantages**\n",
    "\n",
    "- The error calculated has the same unit as the target variables making the interpretation relatively easier.\n",
    "\n",
    "**Disadvantages**\n",
    "\n",
    "- Just like MSE, RMSE is also susceptible to outliers.\n",
    "\n",
    "### 4) R-Squared\n",
    "\n",
    "![image-20220923123410702](images/image-20220923123410702.png)\n",
    "\n",
    "![image-20220923123435789](images/image-20220923123435789.png)\n",
    "\n",
    "```python\n",
    "def R2(y, y_pre):\n",
    "    u = np.sum((y - y_pre) ** 2)\n",
    "    v = np.sum((y - np.mean(y)) ** 2)\n",
    "    return 1 - (u / v)\n",
    "```\n",
    "\n",
    "Value closer to 1 is better."
   ]
  },
  {
   "cell_type": "markdown",
   "id": "79431c17",
   "metadata": {},
   "source": [
    "\n",
    "\n",
    "  \n"
   ]
  },
  {
   "cell_type": "markdown",
   "id": "d77937ff",
   "metadata": {},
   "source": [
    "## 4 LAB Assignment  \n",
    "Now it's time to implement linear regression techniques in practice. In this lab, you will use linear regression to fit a house price model. You will use some real-world data as the test set to evaluate your model.\n",
    "\n",
    "<font color=red>DDL: week 7.</font>\n",
    "\n",
    "### 4.1 Before Assignment\n",
    "#### 4.1.1 Load dataset & Import the required libraries\n",
    "**Datasets**: scikit-learn provides a number of datasets which can be directly loaded by using a function. First we load Ames housing dataset as an example."
   ]
  },
  {
   "cell_type": "code",
   "execution_count": 14,
   "id": "0168de7e-9006-442e-811f-2a3887ff72c6",
   "metadata": {},
   "outputs": [
    {
     "name": "stdout",
     "output_type": "stream",
     "text": [
      ".. _diabetes_dataset:\n",
      "\n",
      "Diabetes dataset\n",
      "----------------\n",
      "\n",
      "Ten baseline variables, age, sex, body mass index, average blood\n",
      "pressure, and six blood serum measurements were obtained for each of n =\n",
      "442 diabetes patients, as well as the response of interest, a\n",
      "quantitative measure of disease progression one year after baseline.\n",
      "\n",
      "**Data Set Characteristics:**\n",
      "\n",
      ":Number of Instances: 442\n",
      "\n",
      ":Number of Attributes: First 10 columns are numeric predictive values\n",
      "\n",
      ":Target: Column 11 is a quantitative measure of disease progression one year after baseline\n",
      "\n",
      ":Attribute Information:\n",
      "    - age     age in years\n",
      "    - sex\n",
      "    - bmi     body mass index\n",
      "    - bp      average blood pressure\n",
      "    - s1      tc, total serum cholesterol\n",
      "    - s2      ldl, low-density lipoproteins\n",
      "    - s3      hdl, high-density lipoproteins\n",
      "    - s4      tch, total cholesterol / HDL\n",
      "    - s5      ltg, possibly log of serum triglycerides level\n",
      "    - s6      glu, blood sugar level\n",
      "\n",
      "Note: Each of these 10 feature variables have been mean centered and scaled by the standard deviation times the square root of `n_samples` (i.e. the sum of squares of each column totals 1).\n",
      "\n",
      "Source URL:\n",
      "https://www4.stat.ncsu.edu/~boos/var.select/diabetes.html\n",
      "\n",
      "For more information see:\n",
      "Bradley Efron, Trevor Hastie, Iain Johnstone and Robert Tibshirani (2004) \"Least Angle Regression,\" Annals of Statistics (with discussion), 407-499.\n",
      "(https://web.stanford.edu/~hastie/Papers/LARS/LeastAngle_2002.pdf)\n",
      "\n"
     ]
    }
   ],
   "source": [
    "import warnings\n",
    "from sklearn import datasets\n",
    "    \n",
    "data = datasets.load_diabetes()\n",
    "print(data.DESCR)"
   ]
  },
  {
   "cell_type": "markdown",
   "id": "755a0ead-6b03-4330-a2cb-59e478ee777d",
   "metadata": {},
   "source": [
    "See [sklearn website](https://scikit-learn.org/stable/modules/classes.html#module-sklearn.datasets) for details. To do this you have to import right packages and modules. \n",
    "\n",
    "#### 4.1.2 Preprocessing data\n",
    "This is a small dataset containing 506 samples and 13 attributes. We need to use proper visualization methods to have an intuitive understanding. We choose the sixth attribute and draw a scattering plot to see the distribution of samples. We use *matplotlib* for data visualization."
   ]
  },
  {
   "cell_type": "code",
   "execution_count": 15,
   "id": "0a27e0ea-3329-4cb1-94fd-0df50318a369",
   "metadata": {},
   "outputs": [
    {
     "data": {
      "image/png": "[encoded data removed]",
      "text/plain": [
       "<Figure size 640x480 with 1 Axes>"
      ]
     },
     "metadata": {},
     "output_type": "display_data"
    }
   ],
   "source": [
    "# Use one feature for visualization\n",
    "x = data.data[:,5]\n",
    "\n",
    "# Get the target vector\n",
    "y = data.target\n",
    "\n",
    "# Scattering plot of prive vs. room number\n",
    "from matplotlib import pyplot as plt\n",
    "plt.scatter(x,y)\n",
    "plt.show()"
   ]
  },
  {
   "cell_type": "markdown",
   "id": "c16a5c9c-7c6a-4140-a988-f717a9378057",
   "metadata": {},
   "source": [
    "If you find some outliers in the dataset, remove them."
   ]
  },
  {
   "cell_type": "markdown",
   "id": "480169bf",
   "metadata": {},
   "source": [
    "#### 4.1.3 Split data\n",
    " Now we divide the whole dataset into a training set and a test set using the the scikit-learn model_selection module."
   ]
  },
  {
   "cell_type": "code",
   "execution_count": 16,
   "id": "ac27b91d-7304-47de-aad2-7046ba8be2db",
   "metadata": {},
   "outputs": [
    {
     "data": {
      "text/plain": [
       "(331,)"
      ]
     },
     "execution_count": 16,
     "metadata": {},
     "output_type": "execute_result"
    }
   ],
   "source": [
    "from sklearn.model_selection import train_test_split\n",
    "\n",
    "X = data.data\n",
    "y = data.target\n",
    "\n",
    "X_train, X_test, y_train, y_test = train_test_split(X,y)\n",
    "y_train.shape"
   ]
  },
  {
   "cell_type": "markdown",
   "id": "d1ad7e0a-f00d-47bb-8666-687ca24e50d8",
   "metadata": {},
   "source": [
    "Usually we also use a validation set. When we use the test set for evaluation, the model will not be changed after the evaluation. However, sometime we want to optimize our model by changing its parameters according to prediction results. The solution is to split a validation set from the training set for adjusting our model. When we believe that the model is good enough, then we evaluate our model on the test set. A more rigorous and costly way is cross validation. With that method, the training set is divided into several pieces in the same size and take every piece as a validation set in turn."
   ]
  },
  {
   "cell_type": "markdown",
   "id": "8379001a-8a61-44f3-a4c6-0466a010d54e",
   "metadata": {},
   "source": [
    "#### 4.1.4 Training \n",
    "##### 1) Linear Regression\n",
    "Now we try to implement a simple linear regression model because the dataset seems linear."
   ]
  },
  {
   "cell_type": "code",
   "execution_count": 17,
   "id": "f01200cd-e57e-4262-b863-87524e8612c3",
   "metadata": {},
   "outputs": [
    {
     "data": {
      "text/html": [
       "<style>#sk-container-id-1 {\n",
       "  /* Definition of color scheme common for light and dark mode */\n",
       "  --sklearn-color-text: black;\n",
       "  --sklearn-color-line: gray;\n",
       "  /* Definition of color scheme for unfitted estimators */\n",
       "  --sklearn-color-unfitted-level-0: #fff5e6;\n",
       "  --sklearn-color-unfitted-level-1: #f6e4d2;\n",
       "  --sklearn-color-unfitted-level-2: #ffe0b3;\n",
       "  --sklearn-color-unfitted-level-3: chocolate;\n",
       "  /* Definition of color scheme for fitted estimators */\n",
       "  --sklearn-color-fitted-level-0: #f0f8ff;\n",
       "  --sklearn-color-fitted-level-1: #d4ebff;\n",
       "  --sklearn-color-fitted-level-2: #b3dbfd;\n",
       "  --sklearn-color-fitted-level-3: cornflowerblue;\n",
       "\n",
       "  /* Specific color for light theme */\n",
       "  --sklearn-color-text-on-default-background: var(--sg-text-color, var(--theme-code-foreground, var(--jp-content-font-color1, black)));\n",
       "  --sklearn-color-background: var(--sg-background-color, var(--theme-background, var(--jp-layout-color0, white)));\n",
       "  --sklearn-color-border-box: var(--sg-text-color, var(--theme-code-foreground, var(--jp-content-font-color1, black)));\n",
       "  --sklearn-color-icon: #696969;\n",
       "\n",
       "  @media (prefers-color-scheme: dark) {\n",
       "    /* Redefinition of color scheme for dark theme */\n",
       "    --sklearn-color-text-on-default-background: var(--sg-text-color, var(--theme-code-foreground, var(--jp-content-font-color1, white)));\n",
       "    --sklearn-color-background: var(--sg-background-color, var(--theme-background, var(--jp-layout-color0, #111)));\n",
       "    --sklearn-color-border-box: var(--sg-text-color, var(--theme-code-foreground, var(--jp-content-font-color1, white)));\n",
       "    --sklearn-color-icon: #878787;\n",
       "  }\n",
       "}\n",
       "\n",
       "#sk-container-id-1 {\n",
       "  color: var(--sklearn-color-text);\n",
       "}\n",
       "\n",
       "#sk-container-id-1 pre {\n",
       "  padding: 0;\n",
       "}\n",
       "\n",
       "#sk-container-id-1 input.sk-hidden--visually {\n",
       "  border: 0;\n",
       "  clip: rect(1px 1px 1px 1px);\n",
       "  clip: rect(1px, 1px, 1px, 1px);\n",
       "  height: 1px;\n",
       "  margin: -1px;\n",
       "  overflow: hidden;\n",
       "  padding: 0;\n",
       "  position: absolute;\n",
       "  width: 1px;\n",
       "}\n",
       "\n",
       "#sk-container-id-1 div.sk-dashed-wrapped {\n",
       "  border: 1px dashed var(--sklearn-color-line);\n",
       "  margin: 0 0.4em 0.5em 0.4em;\n",
       "  box-sizing: border-box;\n",
       "  padding-bottom: 0.4em;\n",
       "  background-color: var(--sklearn-color-background);\n",
       "}\n",
       "\n",
       "#sk-container-id-1 div.sk-container {\n",
       "  /* jupyter's `normalize.less` sets `[hidden] { display: none; }`\n",
       "     but bootstrap.min.css set `[hidden] { display: none !important; }`\n",
       "     so we also need the `!important` here to be able to override the\n",
       "     default hidden behavior on the sphinx rendered scikit-learn.org.\n",
       "     See: https://github.com/scikit-learn/scikit-learn/issues/21755 */\n",
       "  display: inline-block !important;\n",
       "  position: relative;\n",
       "}\n",
       "\n",
       "#sk-container-id-1 div.sk-text-repr-fallback {\n",
       "  display: none;\n",
       "}\n",
       "\n",
       "div.sk-parallel-item,\n",
       "div.sk-serial,\n",
       "div.sk-item {\n",
       "  /* draw centered vertical line to link estimators */\n",
       "  background-image: linear-gradient(var(--sklearn-color-text-on-default-background), var(--sklearn-color-text-on-default-background));\n",
       "  background-size: 2px 100%;\n",
       "  background-repeat: no-repeat;\n",
       "  background-position: center center;\n",
       "}\n",
       "\n",
       "/* Parallel-specific style estimator block */\n",
       "\n",
       "#sk-container-id-1 div.sk-parallel-item::after {\n",
       "  content: \"\";\n",
       "  width: 100%;\n",
       "  border-bottom: 2px solid var(--sklearn-color-text-on-default-background);\n",
       "  flex-grow: 1;\n",
       "}\n",
       "\n",
       "#sk-container-id-1 div.sk-parallel {\n",
       "  display: flex;\n",
       "  align-items: stretch;\n",
       "  justify-content: center;\n",
       "  background-color: var(--sklearn-color-background);\n",
       "  position: relative;\n",
       "}\n",
       "\n",
       "#sk-container-id-1 div.sk-parallel-item {\n",
       "  display: flex;\n",
       "  flex-direction: column;\n",
       "}\n",
       "\n",
       "#sk-container-id-1 div.sk-parallel-item:first-child::after {\n",
       "  align-self: flex-end;\n",
       "  width: 50%;\n",
       "}\n",
       "\n",
       "#sk-container-id-1 div.sk-parallel-item:last-child::after {\n",
       "  align-self: flex-start;\n",
       "  width: 50%;\n",
       "}\n",
       "\n",
       "#sk-container-id-1 div.sk-parallel-item:only-child::after {\n",
       "  width: 0;\n",
       "}\n",
       "\n",
       "/* Serial-specific style estimator block */\n",
       "\n",
       "#sk-container-id-1 div.sk-serial {\n",
       "  display: flex;\n",
       "  flex-direction: column;\n",
       "  align-items: center;\n",
       "  background-color: var(--sklearn-color-background);\n",
       "  padding-right: 1em;\n",
       "  padding-left: 1em;\n",
       "}\n",
       "\n",
       "\n",
       "/* Toggleable style: style used for estimator/Pipeline/ColumnTransformer box that is\n",
       "clickable and can be expanded/collapsed.\n",
       "- Pipeline and ColumnTransformer use this feature and define the default style\n",
       "- Estimators will overwrite some part of the style using the `sk-estimator` class\n",
       "*/\n",
       "\n",
       "/* Pipeline and ColumnTransformer style (default) */\n",
       "\n",
       "#sk-container-id-1 div.sk-toggleable {\n",
       "  /* Default theme specific background. It is overwritten whether we have a\n",
       "  specific estimator or a Pipeline/ColumnTransformer */\n",
       "  background-color: var(--sklearn-color-background);\n",
       "}\n",
       "\n",
       "/* Toggleable label */\n",
       "#sk-container-id-1 label.sk-toggleable__label {\n",
       "  cursor: pointer;\n",
       "  display: block;\n",
       "  width: 100%;\n",
       "  margin-bottom: 0;\n",
       "  padding: 0.5em;\n",
       "  box-sizing: border-box;\n",
       "  text-align: center;\n",
       "}\n",
       "\n",
       "#sk-container-id-1 label.sk-toggleable__label-arrow:before {\n",
       "  /* Arrow on the left of the label */\n",
       "  content: \"▸\";\n",
       "  float: left;\n",
       "  margin-right: 0.25em;\n",
       "  color: var(--sklearn-color-icon);\n",
       "}\n",
       "\n",
       "#sk-container-id-1 label.sk-toggleable__label-arrow:hover:before {\n",
       "  color: var(--sklearn-color-text);\n",
       "}\n",
       "\n",
       "/* Toggleable content - dropdown */\n",
       "\n",
       "#sk-container-id-1 div.sk-toggleable__content {\n",
       "  max-height: 0;\n",
       "  max-width: 0;\n",
       "  overflow: hidden;\n",
       "  text-align: left;\n",
       "  /* unfitted */\n",
       "  background-color: var(--sklearn-color-unfitted-level-0);\n",
       "}\n",
       "\n",
       "#sk-container-id-1 div.sk-toggleable__content.fitted {\n",
       "  /* fitted */\n",
       "  background-color: var(--sklearn-color-fitted-level-0);\n",
       "}\n",
       "\n",
       "#sk-container-id-1 div.sk-toggleable__content pre {\n",
       "  margin: 0.2em;\n",
       "  border-radius: 0.25em;\n",
       "  color: var(--sklearn-color-text);\n",
       "  /* unfitted */\n",
       "  background-color: var(--sklearn-color-unfitted-level-0);\n",
       "}\n",
       "\n",
       "#sk-container-id-1 div.sk-toggleable__content.fitted pre {\n",
       "  /* unfitted */\n",
       "  background-color: var(--sklearn-color-fitted-level-0);\n",
       "}\n",
       "\n",
       "#sk-container-id-1 input.sk-toggleable__control:checked~div.sk-toggleable__content {\n",
       "  /* Expand drop-down */\n",
       "  max-height: 200px;\n",
       "  max-width: 100%;\n",
       "  overflow: auto;\n",
       "}\n",
       "\n",
       "#sk-container-id-1 input.sk-toggleable__control:checked~label.sk-toggleable__label-arrow:before {\n",
       "  content: \"▾\";\n",
       "}\n",
       "\n",
       "/* Pipeline/ColumnTransformer-specific style */\n",
       "\n",
       "#sk-container-id-1 div.sk-label input.sk-toggleable__control:checked~label.sk-toggleable__label {\n",
       "  color: var(--sklearn-color-text);\n",
       "  background-color: var(--sklearn-color-unfitted-level-2);\n",
       "}\n",
       "\n",
       "#sk-container-id-1 div.sk-label.fitted input.sk-toggleable__control:checked~label.sk-toggleable__label {\n",
       "  background-color: var(--sklearn-color-fitted-level-2);\n",
       "}\n",
       "\n",
       "/* Estimator-specific style */\n",
       "\n",
       "/* Colorize estimator box */\n",
       "#sk-container-id-1 div.sk-estimator input.sk-toggleable__control:checked~label.sk-toggleable__label {\n",
       "  /* unfitted */\n",
       "  background-color: var(--sklearn-color-unfitted-level-2);\n",
       "}\n",
       "\n",
       "#sk-container-id-1 div.sk-estimator.fitted input.sk-toggleable__control:checked~label.sk-toggleable__label {\n",
       "  /* fitted */\n",
       "  background-color: var(--sklearn-color-fitted-level-2);\n",
       "}\n",
       "\n",
       "#sk-container-id-1 div.sk-label label.sk-toggleable__label,\n",
       "#sk-container-id-1 div.sk-label label {\n",
       "  /* The background is the default theme color */\n",
       "  color: var(--sklearn-color-text-on-default-background);\n",
       "}\n",
       "\n",
       "/* On hover, darken the color of the background */\n",
       "#sk-container-id-1 div.sk-label:hover label.sk-toggleable__label {\n",
       "  color: var(--sklearn-color-text);\n",
       "  background-color: var(--sklearn-color-unfitted-level-2);\n",
       "}\n",
       "\n",
       "/* Label box, darken color on hover, fitted */\n",
       "#sk-container-id-1 div.sk-label.fitted:hover label.sk-toggleable__label.fitted {\n",
       "  color: var(--sklearn-color-text);\n",
       "  background-color: var(--sklearn-color-fitted-level-2);\n",
       "}\n",
       "\n",
       "/* Estimator label */\n",
       "\n",
       "#sk-container-id-1 div.sk-label label {\n",
       "  font-family: monospace;\n",
       "  font-weight: bold;\n",
       "  display: inline-block;\n",
       "  line-height: 1.2em;\n",
       "}\n",
       "\n",
       "#sk-container-id-1 div.sk-label-container {\n",
       "  text-align: center;\n",
       "}\n",
       "\n",
       "/* Estimator-specific */\n",
       "#sk-container-id-1 div.sk-estimator {\n",
       "  font-family: monospace;\n",
       "  border: 1px dotted var(--sklearn-color-border-box);\n",
       "  border-radius: 0.25em;\n",
       "  box-sizing: border-box;\n",
       "  margin-bottom: 0.5em;\n",
       "  /* unfitted */\n",
       "  background-color: var(--sklearn-color-unfitted-level-0);\n",
       "}\n",
       "\n",
       "#sk-container-id-1 div.sk-estimator.fitted {\n",
       "  /* fitted */\n",
       "  background-color: var(--sklearn-color-fitted-level-0);\n",
       "}\n",
       "\n",
       "/* on hover */\n",
       "#sk-container-id-1 div.sk-estimator:hover {\n",
       "  /* unfitted */\n",
       "  background-color: var(--sklearn-color-unfitted-level-2);\n",
       "}\n",
       "\n",
       "#sk-container-id-1 div.sk-estimator.fitted:hover {\n",
       "  /* fitted */\n",
       "  background-color: var(--sklearn-color-fitted-level-2);\n",
       "}\n",
       "\n",
       "/* Specification for estimator info (e.g. \"i\" and \"?\") */\n",
       "\n",
       "/* Common style for \"i\" and \"?\" */\n",
       "\n",
       ".sk-estimator-doc-link,\n",
       "a:link.sk-estimator-doc-link,\n",
       "a:visited.sk-estimator-doc-link {\n",
       "  float: right;\n",
       "  font-size: smaller;\n",
       "  line-height: 1em;\n",
       "  font-family: monospace;\n",
       "  background-color: var(--sklearn-color-background);\n",
       "  border-radius: 1em;\n",
       "  height: 1em;\n",
       "  width: 1em;\n",
       "  text-decoration: none !important;\n",
       "  margin-left: 1ex;\n",
       "  /* unfitted */\n",
       "  border: var(--sklearn-color-unfitted-level-1) 1pt solid;\n",
       "  color: var(--sklearn-color-unfitted-level-1);\n",
       "}\n",
       "\n",
       ".sk-estimator-doc-link.fitted,\n",
       "a:link.sk-estimator-doc-link.fitted,\n",
       "a:visited.sk-estimator-doc-link.fitted {\n",
       "  /* fitted */\n",
       "  border: var(--sklearn-color-fitted-level-1) 1pt solid;\n",
       "  color: var(--sklearn-color-fitted-level-1);\n",
       "}\n",
       "\n",
       "/* On hover */\n",
       "div.sk-estimator:hover .sk-estimator-doc-link:hover,\n",
       ".sk-estimator-doc-link:hover,\n",
       "div.sk-label-container:hover .sk-estimator-doc-link:hover,\n",
       ".sk-estimator-doc-link:hover {\n",
       "  /* unfitted */\n",
       "  background-color: var(--sklearn-color-unfitted-level-3);\n",
       "  color: var(--sklearn-color-background);\n",
       "  text-decoration: none;\n",
       "}\n",
       "\n",
       "div.sk-estimator.fitted:hover .sk-estimator-doc-link.fitted:hover,\n",
       ".sk-estimator-doc-link.fitted:hover,\n",
       "div.sk-label-container:hover .sk-estimator-doc-link.fitted:hover,\n",
       ".sk-estimator-doc-link.fitted:hover {\n",
       "  /* fitted */\n",
       "  background-color: var(--sklearn-color-fitted-level-3);\n",
       "  color: var(--sklearn-color-background);\n",
       "  text-decoration: none;\n",
       "}\n",
       "\n",
       "/* Span, style for the box shown on hovering the info icon */\n",
       ".sk-estimator-doc-link span {\n",
       "  display: none;\n",
       "  z-index: 9999;\n",
       "  position: relative;\n",
       "  font-weight: normal;\n",
       "  right: .2ex;\n",
       "  padding: .5ex;\n",
       "  margin: .5ex;\n",
       "  width: min-content;\n",
       "  min-width: 20ex;\n",
       "  max-width: 50ex;\n",
       "  color: var(--sklearn-color-text);\n",
       "  box-shadow: 2pt 2pt 4pt #999;\n",
       "  /* unfitted */\n",
       "  background: var(--sklearn-color-unfitted-level-0);\n",
       "  border: .5pt solid var(--sklearn-color-unfitted-level-3);\n",
       "}\n",
       "\n",
       ".sk-estimator-doc-link.fitted span {\n",
       "  /* fitted */\n",
       "  background: var(--sklearn-color-fitted-level-0);\n",
       "  border: var(--sklearn-color-fitted-level-3);\n",
       "}\n",
       "\n",
       ".sk-estimator-doc-link:hover span {\n",
       "  display: block;\n",
       "}\n",
       "\n",
       "/* \"?\"-specific style due to the `<a>` HTML tag */\n",
       "\n",
       "#sk-container-id-1 a.estimator_doc_link {\n",
       "  float: right;\n",
       "  font-size: 1rem;\n",
       "  line-height: 1em;\n",
       "  font-family: monospace;\n",
       "  background-color: var(--sklearn-color-background);\n",
       "  border-radius: 1rem;\n",
       "  height: 1rem;\n",
       "  width: 1rem;\n",
       "  text-decoration: none;\n",
       "  /* unfitted */\n",
       "  color: var(--sklearn-color-unfitted-level-1);\n",
       "  border: var(--sklearn-color-unfitted-level-1) 1pt solid;\n",
       "}\n",
       "\n",
       "#sk-container-id-1 a.estimator_doc_link.fitted {\n",
       "  /* fitted */\n",
       "  border: var(--sklearn-color-fitted-level-1) 1pt solid;\n",
       "  color: var(--sklearn-color-fitted-level-1);\n",
       "}\n",
       "\n",
       "/* On hover */\n",
       "#sk-container-id-1 a.estimator_doc_link:hover {\n",
       "  /* unfitted */\n",
       "  background-color: var(--sklearn-color-unfitted-level-3);\n",
       "  color: var(--sklearn-color-background);\n",
       "  text-decoration: none;\n",
       "}\n",
       "\n",
       "#sk-container-id-1 a.estimator_doc_link.fitted:hover {\n",
       "  /* fitted */\n",
       "  background-color: var(--sklearn-color-fitted-level-3);\n",
       "}\n",
       "</style><div id=\"sk-container-id-1\" class=\"sk-top-container\"><div class=\"sk-text-repr-fallback\"><pre>LinearRegression()</pre><b>In a Jupyter environment, please rerun this cell to show the HTML representation or trust the notebook. <br />On GitHub, the HTML representation is unable to render, please try loading this page with nbviewer.org.</b></div><div class=\"sk-container\" hidden><div class=\"sk-item\"><div class=\"sk-estimator fitted sk-toggleable\"><input class=\"sk-toggleable__control sk-hidden--visually\" id=\"sk-estimator-id-1\" type=\"checkbox\" checked><label for=\"sk-estimator-id-1\" class=\"sk-toggleable__label fitted sk-toggleable__label-arrow fitted\">&nbsp;&nbsp;LinearRegression<a class=\"sk-estimator-doc-link fitted\" rel=\"noreferrer\" target=\"_blank\" href=\"https://scikit-learn.org/1.5/modules/generated/sklearn.linear_model.LinearRegression.html\">?<span>Documentation for LinearRegression</span></a><span class=\"sk-estimator-doc-link fitted\">i<span>Fitted</span></span></label><div class=\"sk-toggleable__content fitted\"><pre>LinearRegression()</pre></div> </div></div></div></div>"
      ],
      "text/plain": [
       "LinearRegression()"
      ]
     },
     "execution_count": 17,
     "metadata": {},
     "output_type": "execute_result"
    }
   ],
   "source": [
    "from sklearn.linear_model import LinearRegression\n",
    "lin_reg = LinearRegression()\n",
    "lin_reg.fit(X_train, y_train)"
   ]
  },
  {
   "cell_type": "markdown",
   "id": "0ea6873d-c8e3-42f5-9f92-7918c20e5522",
   "metadata": {},
   "source": [
    "The model has been trained just by using a few lines of codes. Now let’s make a prediction for testing"
   ]
  },
  {
   "cell_type": "code",
   "execution_count": 18,
   "id": "457e4549-50de-4ff4-9fb2-149fff246b83",
   "metadata": {},
   "outputs": [
    {
     "data": {
      "text/plain": [
       "array([195.77480852])"
      ]
     },
     "execution_count": 18,
     "metadata": {},
     "output_type": "execute_result"
    }
   ],
   "source": [
    "# Make a prediction\n",
    "y_0_hat = lin_reg.predict(X_test[0].reshape(1,-1))\n",
    "y_0_hat"
   ]
  },
  {
   "cell_type": "code",
   "execution_count": 19,
   "id": "2ca02f7d-80cd-40c4-aa80-00b7110b8c89",
   "metadata": {},
   "outputs": [
    {
     "data": {
      "text/plain": [
       "178.0"
      ]
     },
     "execution_count": 19,
     "metadata": {},
     "output_type": "execute_result"
    }
   ],
   "source": [
    "y_test[0]"
   ]
  },
  {
   "cell_type": "markdown",
   "id": "ab1d8d8d-5da1-4158-906a-4ec11f6a16d5",
   "metadata": {},
   "source": [
    "Notice that in scikit-learn, the standard interface for machine learning is\n",
    "1) instantiate a learner with super parameters or none; \n",
    "2) use `fit()` method and feed the learner with training data; \n",
    "3) use `predict()` for prediction. \n",
    "\n",
    "Moreover, the data preprocessing algorithms also have the same interface, they just use `transform()` instead of `predict()`.\n",
    "\n",
    "Below are the trained parameters."
   ]
  },
  {
   "cell_type": "code",
   "execution_count": 20,
   "id": "c8204c34-0235-4610-9429-a5d8443beec3",
   "metadata": {},
   "outputs": [
    {
     "data": {
      "text/plain": [
       "array([  -10.41752722,  -246.29834944,   494.19861276,   324.58325922,\n",
       "       -1093.35487284,   757.40741606,   201.94319963,   188.33636631,\n",
       "         879.08294478,     5.02733773])"
      ]
     },
     "execution_count": 20,
     "metadata": {},
     "output_type": "execute_result"
    }
   ],
   "source": [
    "lin_reg.coef_"
   ]
  },
  {
   "cell_type": "code",
   "execution_count": 21,
   "id": "70bd5540-43c4-4c12-97a5-dce6cc1a197e",
   "metadata": {},
   "outputs": [
    {
     "data": {
      "text/plain": [
       "154.12011547083586"
      ]
     },
     "execution_count": 21,
     "metadata": {},
     "output_type": "execute_result"
    }
   ],
   "source": [
    "lin_reg.intercept_"
   ]
  },
  {
   "cell_type": "markdown",
   "id": "1d90131c-e5d9-495f-b282-9d91ab231141",
   "metadata": {},
   "source": [
    "Use the evaluation method to see if it is a good model. The `score()` method uses R-square."
   ]
  },
  {
   "cell_type": "code",
   "execution_count": 22,
   "id": "e9c32e70-0bb7-4044-be7b-b43360e9a1d2",
   "metadata": {},
   "outputs": [
    {
     "data": {
      "text/plain": [
       "0.5058574082135929"
      ]
     },
     "execution_count": 22,
     "metadata": {},
     "output_type": "execute_result"
    }
   ],
   "source": [
    "lin_reg.score(X_test, y_test)"
   ]
  },
  {
   "cell_type": "markdown",
   "id": "e6f03edb-37ef-4fca-980b-7b755da5f1d5",
   "metadata": {},
   "source": [
    "##### 2) Polynomial Regression\n",
    "If you have understood the concept of linear regression, you can easily implement polynomial regression. \n",
    "\n",
    "#### 4.1.5 Evaluation model\n",
    "Checking the results on test set。"
   ]
  },
  {
   "cell_type": "markdown",
   "id": "40c8985e-053c-42b0-9d94-e458c21d6491",
   "metadata": {},
   "source": [
    "### 4.2 LAB Assignment\n",
    "Please use the real world dataset, **California housing price**, for model training and evaluate the model’s prediction performance. You can use simple linear regression, polynomial regression or more complicated base functions such as Gaussian function or use regularization methods. Make sure at least **20% data for testing** and choose one evaluation method you think good. **Please do not just train your model and say that is good enough, you need to give your analysis**. For that end, validation or cross validation is needed. Compare the score in the training set and the validation set. If they are both good enough, then use the model on the test set.\n",
    "\n",
    "**Your test set can only be used for final evaluation!**"
   ]
  },
  {
   "cell_type": "code",
   "execution_count": 23,
   "id": "ff04fd22-a7b9-4eb4-a4f0-45a60f2b2436",
   "metadata": {},
   "outputs": [],
   "source": [
    "########### Write Your Code Here ###########\n",
    "\n",
    "############################################"
   ]
  },
  {
   "cell_type": "markdown",
   "id": "a16c7221",
   "metadata": {},
   "source": [
    " <center><font size=10> Well done!👏 You have made it. </font></center>"
   ]
  }
 ],
 "metadata": {
  "kernelspec": {
   "display_name": "Python 3 (ipykernel)",
   "language": "python",
   "name": "python3"
  },
  "language_info": {
   "codemirror_mode": {
    "name": "ipython",
    "version": 3
   },
   "file_extension": ".py",
   "mimetype": "text/x-python",
   "name": "python",
   "nbconvert_exporter": "python",
   "pygments_lexer": "ipython3",
   "version": "3.10.14"
  },
  "vscode": {
   "interpreter": {
    "hash": "773bfaa0e82744962f3138a2d7b2f007250d49f330da41a556809ccbcf17bfbe"
   }
  }
 },
 "nbformat": 4,
 "nbformat_minor": 5
}
